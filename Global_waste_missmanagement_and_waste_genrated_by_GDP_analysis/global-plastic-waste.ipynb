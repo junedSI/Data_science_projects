{
 "cells": [
  {
   "cell_type": "code",
   "execution_count": 50,
   "metadata": {
    "collapsed": true
   },
   "outputs": [],
   "source": [
    "import numpy as np\n",
    "import pandas as pd\n",
    "import seaborn as sns\n",
    "import warnings\n",
    "import matplotlib.pyplot as plt\n",
    "%matplotlib inline\n",
    "\n",
    "warnings.filterwarnings('ignore')\n",
    "sns.set_style('darkgrid')"
   ]
  },
  {
   "cell_type": "code",
   "execution_count": 51,
   "outputs": [],
   "source": [
    "# reading dataset\n",
    "Missmanaged = pd.read_csv('per-capita-mismanaged-plastic-waste-vs-gdp-per-capita.csv')"
   ],
   "metadata": {
    "collapsed": false,
    "pycharm": {
     "name": "#%%\n"
    }
   }
  },
  {
   "cell_type": "code",
   "execution_count": 52,
   "outputs": [
    {
     "data": {
      "text/plain": "        Entity      Code  Year  Per capita mismanaged plastic waste  \\\n0     Abkhazia  OWID_ABK  2015                                  NaN   \n1  Afghanistan       AFG  2002                                  NaN   \n2  Afghanistan       AFG  2003                                  NaN   \n3  Afghanistan       AFG  2004                                  NaN   \n4  Afghanistan       AFG  2005                                  NaN   \n\n   GDP per capita, PPP (constant 2011 international $)  \\\n0                                                NaN     \n1                                        1063.635574     \n2                                        1099.194507     \n3                                        1062.249360     \n4                                        1136.123214     \n\n   Total population (Gapminder, HYDE & UN) Continent  \n0                                      NaN      Asia  \n1                               22601000.0       NaN  \n2                               23681000.0       NaN  \n3                               24727000.0       NaN  \n4                               25654000.0       NaN  ",
      "text/html": "<div>\n<style scoped>\n    .dataframe tbody tr th:only-of-type {\n        vertical-align: middle;\n    }\n\n    .dataframe tbody tr th {\n        vertical-align: top;\n    }\n\n    .dataframe thead th {\n        text-align: right;\n    }\n</style>\n<table border=\"1\" class=\"dataframe\">\n  <thead>\n    <tr style=\"text-align: right;\">\n      <th></th>\n      <th>Entity</th>\n      <th>Code</th>\n      <th>Year</th>\n      <th>Per capita mismanaged plastic waste</th>\n      <th>GDP per capita, PPP (constant 2011 international $)</th>\n      <th>Total population (Gapminder, HYDE &amp; UN)</th>\n      <th>Continent</th>\n    </tr>\n  </thead>\n  <tbody>\n    <tr>\n      <th>0</th>\n      <td>Abkhazia</td>\n      <td>OWID_ABK</td>\n      <td>2015</td>\n      <td>NaN</td>\n      <td>NaN</td>\n      <td>NaN</td>\n      <td>Asia</td>\n    </tr>\n    <tr>\n      <th>1</th>\n      <td>Afghanistan</td>\n      <td>AFG</td>\n      <td>2002</td>\n      <td>NaN</td>\n      <td>1063.635574</td>\n      <td>22601000.0</td>\n      <td>NaN</td>\n    </tr>\n    <tr>\n      <th>2</th>\n      <td>Afghanistan</td>\n      <td>AFG</td>\n      <td>2003</td>\n      <td>NaN</td>\n      <td>1099.194507</td>\n      <td>23681000.0</td>\n      <td>NaN</td>\n    </tr>\n    <tr>\n      <th>3</th>\n      <td>Afghanistan</td>\n      <td>AFG</td>\n      <td>2004</td>\n      <td>NaN</td>\n      <td>1062.249360</td>\n      <td>24727000.0</td>\n      <td>NaN</td>\n    </tr>\n    <tr>\n      <th>4</th>\n      <td>Afghanistan</td>\n      <td>AFG</td>\n      <td>2005</td>\n      <td>NaN</td>\n      <td>1136.123214</td>\n      <td>25654000.0</td>\n      <td>NaN</td>\n    </tr>\n  </tbody>\n</table>\n</div>"
     },
     "execution_count": 52,
     "metadata": {},
     "output_type": "execute_result"
    }
   ],
   "source": [
    "# first 5 rows of data\n",
    "Missmanaged.head()"
   ],
   "metadata": {
    "collapsed": false,
    "pycharm": {
     "name": "#%%\n"
    }
   }
  },
  {
   "cell_type": "code",
   "execution_count": 53,
   "outputs": [
    {
     "data": {
      "text/plain": "(48168, 7)"
     },
     "execution_count": 53,
     "metadata": {},
     "output_type": "execute_result"
    }
   ],
   "source": [
    "# Shape of data\n",
    "Missmanaged.shape"
   ],
   "metadata": {
    "collapsed": false,
    "pycharm": {
     "name": "#%%\n"
    }
   }
  },
  {
   "cell_type": "code",
   "execution_count": 54,
   "outputs": [
    {
     "data": {
      "text/plain": "Entity                                                     0\nCode                                                    2014\nYear                                                       0\nPer capita mismanaged plastic waste                    47982\nGDP per capita, PPP (constant 2011 international $)    41761\nTotal population (Gapminder, HYDE & UN)                 1285\nContinent                                              47883\ndtype: int64"
     },
     "execution_count": 54,
     "metadata": {},
     "output_type": "execute_result"
    }
   ],
   "source": [
    "# checking null values\n",
    "Missmanaged.isnull().sum()"
   ],
   "metadata": {
    "collapsed": false,
    "pycharm": {
     "name": "#%%\n"
    }
   }
  },
  {
   "cell_type": "code",
   "execution_count": 55,
   "outputs": [
    {
     "name": "stdout",
     "output_type": "stream",
     "text": [
      "Entity has 0.00% null values: \n",
      "----------------------------------------------------------------------------------------------------\n",
      "Code has 4.18% null values: \n",
      "----------------------------------------------------------------------------------------------------\n",
      "Year has 0.00% null values: \n",
      "----------------------------------------------------------------------------------------------------\n",
      "Per capita mismanaged plastic waste has 99.61% null values: \n",
      "----------------------------------------------------------------------------------------------------\n",
      "GDP per capita, PPP (constant 2011 international $) has 86.70% null values: \n",
      "----------------------------------------------------------------------------------------------------\n",
      "Total population (Gapminder, HYDE & UN) has 2.67% null values: \n",
      "----------------------------------------------------------------------------------------------------\n",
      "Continent has 99.41% null values: \n",
      "----------------------------------------------------------------------------------------------------\n"
     ]
    }
   ],
   "source": [
    "# checking null values percentage wise.\n",
    "for column in Missmanaged.columns:\n",
    "    print(\"{} has {:.2f}% null values: \".format(column, (Missmanaged[column].isnull().sum() / len(Missmanaged)) * 100 ))\n",
    "    print(\"-\" * 100)"
   ],
   "metadata": {
    "collapsed": false,
    "pycharm": {
     "name": "#%%\n"
    }
   }
  },
  {
   "cell_type": "code",
   "execution_count": 56,
   "outputs": [
    {
     "name": "stdout",
     "output_type": "stream",
     "text": [
      "<class 'pandas.core.frame.DataFrame'>\n",
      "RangeIndex: 48168 entries, 0 to 48167\n",
      "Data columns (total 7 columns):\n",
      " #   Column                                               Non-Null Count  Dtype  \n",
      "---  ------                                               --------------  -----  \n",
      " 0   Entity                                               48168 non-null  object \n",
      " 1   Code                                                 46154 non-null  object \n",
      " 2   Year                                                 48168 non-null  int64  \n",
      " 3   Per capita mismanaged plastic waste                  186 non-null    float64\n",
      " 4   GDP per capita, PPP (constant 2011 international $)  6407 non-null   float64\n",
      " 5   Total population (Gapminder, HYDE & UN)              46883 non-null  float64\n",
      " 6   Continent                                            285 non-null    object \n",
      "dtypes: float64(3), int64(1), object(3)\n",
      "memory usage: 2.6+ MB\n"
     ]
    }
   ],
   "source": [
    "''' checking info of data '''\n",
    "Missmanaged.info()"
   ],
   "metadata": {
    "collapsed": false,
    "pycharm": {
     "name": "#%%\n"
    }
   }
  },
  {
   "cell_type": "code",
   "execution_count": 57,
   "outputs": [],
   "source": [
    "''' renaming column names '''\n",
    "Missmanaged.rename(columns={'Per capita mismanaged plastic waste': 'Mismanaged waste per person(kg/day)',\n",
    "                    'GDP per capita, PPP (constant 2011 international $)': 'GDP per capita in PPP',\n",
    "                    'Total population (Gapminder, HYDE & UN)': 'Total Population'}, inplace=True)"
   ],
   "metadata": {
    "collapsed": false,
    "pycharm": {
     "name": "#%%\n"
    }
   }
  },
  {
   "cell_type": "code",
   "execution_count": 58,
   "outputs": [
    {
     "data": {
      "text/plain": "        Entity      Code  Year  Mismanaged waste per person(kg/day)  \\\n0     Abkhazia  OWID_ABK  2015                                  NaN   \n1  Afghanistan       AFG  2002                                  NaN   \n2  Afghanistan       AFG  2003                                  NaN   \n3  Afghanistan       AFG  2004                                  NaN   \n4  Afghanistan       AFG  2005                                  NaN   \n\n   GDP per capita in PPP  Total Population Continent  \n0                    NaN               NaN      Asia  \n1            1063.635574        22601000.0       NaN  \n2            1099.194507        23681000.0       NaN  \n3            1062.249360        24727000.0       NaN  \n4            1136.123214        25654000.0       NaN  ",
      "text/html": "<div>\n<style scoped>\n    .dataframe tbody tr th:only-of-type {\n        vertical-align: middle;\n    }\n\n    .dataframe tbody tr th {\n        vertical-align: top;\n    }\n\n    .dataframe thead th {\n        text-align: right;\n    }\n</style>\n<table border=\"1\" class=\"dataframe\">\n  <thead>\n    <tr style=\"text-align: right;\">\n      <th></th>\n      <th>Entity</th>\n      <th>Code</th>\n      <th>Year</th>\n      <th>Mismanaged waste per person(kg/day)</th>\n      <th>GDP per capita in PPP</th>\n      <th>Total Population</th>\n      <th>Continent</th>\n    </tr>\n  </thead>\n  <tbody>\n    <tr>\n      <th>0</th>\n      <td>Abkhazia</td>\n      <td>OWID_ABK</td>\n      <td>2015</td>\n      <td>NaN</td>\n      <td>NaN</td>\n      <td>NaN</td>\n      <td>Asia</td>\n    </tr>\n    <tr>\n      <th>1</th>\n      <td>Afghanistan</td>\n      <td>AFG</td>\n      <td>2002</td>\n      <td>NaN</td>\n      <td>1063.635574</td>\n      <td>22601000.0</td>\n      <td>NaN</td>\n    </tr>\n    <tr>\n      <th>2</th>\n      <td>Afghanistan</td>\n      <td>AFG</td>\n      <td>2003</td>\n      <td>NaN</td>\n      <td>1099.194507</td>\n      <td>23681000.0</td>\n      <td>NaN</td>\n    </tr>\n    <tr>\n      <th>3</th>\n      <td>Afghanistan</td>\n      <td>AFG</td>\n      <td>2004</td>\n      <td>NaN</td>\n      <td>1062.249360</td>\n      <td>24727000.0</td>\n      <td>NaN</td>\n    </tr>\n    <tr>\n      <th>4</th>\n      <td>Afghanistan</td>\n      <td>AFG</td>\n      <td>2005</td>\n      <td>NaN</td>\n      <td>1136.123214</td>\n      <td>25654000.0</td>\n      <td>NaN</td>\n    </tr>\n  </tbody>\n</table>\n</div>"
     },
     "execution_count": 58,
     "metadata": {},
     "output_type": "execute_result"
    }
   ],
   "source": [
    "Missmanaged.head()"
   ],
   "metadata": {
    "collapsed": false,
    "pycharm": {
     "name": "#%%\n"
    }
   }
  },
  {
   "cell_type": "code",
   "execution_count": 59,
   "outputs": [],
   "source": [
    "''' dropping Continent column '''\n",
    "Missmanaged.drop('Continent', axis=1, inplace=True)"
   ],
   "metadata": {
    "collapsed": false,
    "pycharm": {
     "name": "#%%\n"
    }
   }
  },
  {
   "cell_type": "code",
   "execution_count": 60,
   "outputs": [],
   "source": [
    "''' removing entities/countries with incomplete/missing data '''\n",
    "incmp_df_idx = Missmanaged[(Missmanaged['Total Population'].isna()) & (Missmanaged['GDP per capita in PPP'].isna())].index\n",
    "Missmanaged.drop(incmp_df_idx, inplace=True)"
   ],
   "metadata": {
    "collapsed": false,
    "pycharm": {
     "name": "#%%\n"
    }
   }
  },
  {
   "cell_type": "code",
   "execution_count": 61,
   "outputs": [
    {
     "data": {
      "text/plain": "        Entity Code  Year  Mismanaged waste per person(kg/day)  \\\n1  Afghanistan  AFG  2002                                  NaN   \n2  Afghanistan  AFG  2003                                  NaN   \n3  Afghanistan  AFG  2004                                  NaN   \n4  Afghanistan  AFG  2005                                  NaN   \n5  Afghanistan  AFG  2006                                  NaN   \n\n   GDP per capita in PPP  Total Population  \n1            1063.635574        22601000.0  \n2            1099.194507        23681000.0  \n3            1062.249360        24727000.0  \n4            1136.123214        25654000.0  \n5            1161.124889        26433000.0  ",
      "text/html": "<div>\n<style scoped>\n    .dataframe tbody tr th:only-of-type {\n        vertical-align: middle;\n    }\n\n    .dataframe tbody tr th {\n        vertical-align: top;\n    }\n\n    .dataframe thead th {\n        text-align: right;\n    }\n</style>\n<table border=\"1\" class=\"dataframe\">\n  <thead>\n    <tr style=\"text-align: right;\">\n      <th></th>\n      <th>Entity</th>\n      <th>Code</th>\n      <th>Year</th>\n      <th>Mismanaged waste per person(kg/day)</th>\n      <th>GDP per capita in PPP</th>\n      <th>Total Population</th>\n    </tr>\n  </thead>\n  <tbody>\n    <tr>\n      <th>1</th>\n      <td>Afghanistan</td>\n      <td>AFG</td>\n      <td>2002</td>\n      <td>NaN</td>\n      <td>1063.635574</td>\n      <td>22601000.0</td>\n    </tr>\n    <tr>\n      <th>2</th>\n      <td>Afghanistan</td>\n      <td>AFG</td>\n      <td>2003</td>\n      <td>NaN</td>\n      <td>1099.194507</td>\n      <td>23681000.0</td>\n    </tr>\n    <tr>\n      <th>3</th>\n      <td>Afghanistan</td>\n      <td>AFG</td>\n      <td>2004</td>\n      <td>NaN</td>\n      <td>1062.249360</td>\n      <td>24727000.0</td>\n    </tr>\n    <tr>\n      <th>4</th>\n      <td>Afghanistan</td>\n      <td>AFG</td>\n      <td>2005</td>\n      <td>NaN</td>\n      <td>1136.123214</td>\n      <td>25654000.0</td>\n    </tr>\n    <tr>\n      <th>5</th>\n      <td>Afghanistan</td>\n      <td>AFG</td>\n      <td>2006</td>\n      <td>NaN</td>\n      <td>1161.124889</td>\n      <td>26433000.0</td>\n    </tr>\n  </tbody>\n</table>\n</div>"
     },
     "execution_count": 61,
     "metadata": {},
     "output_type": "execute_result"
    }
   ],
   "source": [
    "Missmanaged.head()"
   ],
   "metadata": {
    "collapsed": false,
    "pycharm": {
     "name": "#%%\n"
    }
   }
  },
  {
   "cell_type": "code",
   "execution_count": 62,
   "outputs": [
    {
     "data": {
      "text/plain": "(48113, 6)"
     },
     "execution_count": 62,
     "metadata": {},
     "output_type": "execute_result"
    }
   ],
   "source": [
    "Missmanaged.shape"
   ],
   "metadata": {
    "collapsed": false,
    "pycharm": {
     "name": "#%%\n"
    }
   }
  },
  {
   "cell_type": "code",
   "execution_count": 65,
   "outputs": [
    {
     "data": {
      "text/plain": "             Entity Code  Year  Mismanaged waste per person(kg/day)  \\\n9       Afghanistan  AFG  2010                                  NaN   \n333          Africa  NaN  2010                                  NaN   \n344         Albania  ALB  2010                                0.032   \n564         Algeria  DZA  2010                                0.086   \n844  American Samoa  ASM  2010                                  NaN   \n\n     GDP per capita in PPP  Total Population  \n9              1614.255001      2.918600e+07  \n333                    NaN      1.039304e+09  \n344            9927.181841      2.948000e+06  \n564           12870.602699      3.597700e+07  \n844                    NaN      5.600000e+04  ",
      "text/html": "<div>\n<style scoped>\n    .dataframe tbody tr th:only-of-type {\n        vertical-align: middle;\n    }\n\n    .dataframe tbody tr th {\n        vertical-align: top;\n    }\n\n    .dataframe thead th {\n        text-align: right;\n    }\n</style>\n<table border=\"1\" class=\"dataframe\">\n  <thead>\n    <tr style=\"text-align: right;\">\n      <th></th>\n      <th>Entity</th>\n      <th>Code</th>\n      <th>Year</th>\n      <th>Mismanaged waste per person(kg/day)</th>\n      <th>GDP per capita in PPP</th>\n      <th>Total Population</th>\n    </tr>\n  </thead>\n  <tbody>\n    <tr>\n      <th>9</th>\n      <td>Afghanistan</td>\n      <td>AFG</td>\n      <td>2010</td>\n      <td>NaN</td>\n      <td>1614.255001</td>\n      <td>2.918600e+07</td>\n    </tr>\n    <tr>\n      <th>333</th>\n      <td>Africa</td>\n      <td>NaN</td>\n      <td>2010</td>\n      <td>NaN</td>\n      <td>NaN</td>\n      <td>1.039304e+09</td>\n    </tr>\n    <tr>\n      <th>344</th>\n      <td>Albania</td>\n      <td>ALB</td>\n      <td>2010</td>\n      <td>0.032</td>\n      <td>9927.181841</td>\n      <td>2.948000e+06</td>\n    </tr>\n    <tr>\n      <th>564</th>\n      <td>Algeria</td>\n      <td>DZA</td>\n      <td>2010</td>\n      <td>0.086</td>\n      <td>12870.602699</td>\n      <td>3.597700e+07</td>\n    </tr>\n    <tr>\n      <th>844</th>\n      <td>American Samoa</td>\n      <td>ASM</td>\n      <td>2010</td>\n      <td>NaN</td>\n      <td>NaN</td>\n      <td>5.600000e+04</td>\n    </tr>\n  </tbody>\n</table>\n</div>"
     },
     "execution_count": 65,
     "metadata": {},
     "output_type": "execute_result"
    }
   ],
   "source": [
    "'''retrieving rows in which year == 2010'''\n",
    "df2_2010 = Missmanaged[Missmanaged.Year == 2010]\n",
    "df2_2010.head()"
   ],
   "metadata": {
    "collapsed": false,
    "pycharm": {
     "name": "#%%\n"
    }
   }
  },
  {
   "cell_type": "code",
   "execution_count": 69,
   "outputs": [],
   "source": [
    "''' dropping rows with missing mismanaged waste values '''\n",
    "df2_2010 = df2_2010[df2_2010['Mismanaged waste per person(kg/day)'].isna() != True]\n",
    "\n",
    "''' reset index '''\n",
    "w_m = df2_2010.reset_index().drop('index', axis=1)"
   ],
   "metadata": {
    "collapsed": false,
    "pycharm": {
     "name": "#%%\n"
    }
   }
  },
  {
   "cell_type": "code",
   "execution_count": 70,
   "outputs": [
    {
     "data": {
      "text/plain": "                Entity Code  Year  Mismanaged waste per person(kg/day)  \\\n0              Albania  ALB  2010                                0.032   \n1              Algeria  DZA  2010                                0.086   \n2               Angola  AGO  2010                                0.045   \n3             Anguilla  AIA  2010                                0.010   \n4  Antigua and Barbuda  ATG  2010                                0.051   \n\n   GDP per capita in PPP  Total Population  \n0            9927.181841         2948000.0  \n1           12870.602699        35977000.0  \n2            5897.682841        23356000.0  \n3                    NaN           13000.0  \n4           19212.720131           88000.0  ",
      "text/html": "<div>\n<style scoped>\n    .dataframe tbody tr th:only-of-type {\n        vertical-align: middle;\n    }\n\n    .dataframe tbody tr th {\n        vertical-align: top;\n    }\n\n    .dataframe thead th {\n        text-align: right;\n    }\n</style>\n<table border=\"1\" class=\"dataframe\">\n  <thead>\n    <tr style=\"text-align: right;\">\n      <th></th>\n      <th>Entity</th>\n      <th>Code</th>\n      <th>Year</th>\n      <th>Mismanaged waste per person(kg/day)</th>\n      <th>GDP per capita in PPP</th>\n      <th>Total Population</th>\n    </tr>\n  </thead>\n  <tbody>\n    <tr>\n      <th>0</th>\n      <td>Albania</td>\n      <td>ALB</td>\n      <td>2010</td>\n      <td>0.032</td>\n      <td>9927.181841</td>\n      <td>2948000.0</td>\n    </tr>\n    <tr>\n      <th>1</th>\n      <td>Algeria</td>\n      <td>DZA</td>\n      <td>2010</td>\n      <td>0.086</td>\n      <td>12870.602699</td>\n      <td>35977000.0</td>\n    </tr>\n    <tr>\n      <th>2</th>\n      <td>Angola</td>\n      <td>AGO</td>\n      <td>2010</td>\n      <td>0.045</td>\n      <td>5897.682841</td>\n      <td>23356000.0</td>\n    </tr>\n    <tr>\n      <th>3</th>\n      <td>Anguilla</td>\n      <td>AIA</td>\n      <td>2010</td>\n      <td>0.010</td>\n      <td>NaN</td>\n      <td>13000.0</td>\n    </tr>\n    <tr>\n      <th>4</th>\n      <td>Antigua and Barbuda</td>\n      <td>ATG</td>\n      <td>2010</td>\n      <td>0.051</td>\n      <td>19212.720131</td>\n      <td>88000.0</td>\n    </tr>\n  </tbody>\n</table>\n</div>"
     },
     "execution_count": 70,
     "metadata": {},
     "output_type": "execute_result"
    }
   ],
   "source": [
    "w_m.head()"
   ],
   "metadata": {
    "collapsed": false,
    "pycharm": {
     "name": "#%%\n"
    }
   }
  },
  {
   "cell_type": "code",
   "execution_count": 72,
   "outputs": [],
   "source": [
    "Gdpwise = pd.read_csv('per-capita-plastic-waste-vs-gdp-per-capita.csv')"
   ],
   "metadata": {
    "collapsed": false,
    "pycharm": {
     "name": "#%%\n"
    }
   }
  },
  {
   "cell_type": "code",
   "execution_count": 73,
   "outputs": [
    {
     "name": "stdout",
     "output_type": "stream",
     "text": [
      "Entity has 0.00% null values: \n",
      "----------------------------------------------------------------------------------------------------\n",
      "Code has 4.18% null values: \n",
      "----------------------------------------------------------------------------------------------------\n",
      "Year has 0.00% null values: \n",
      "----------------------------------------------------------------------------------------------------\n",
      "Per capita plastic waste (kg/person/day) has 99.61% null values: \n",
      "----------------------------------------------------------------------------------------------------\n",
      "GDP per capita, PPP (constant 2011 international $) has 86.70% null values: \n",
      "----------------------------------------------------------------------------------------------------\n",
      "Total population (Gapminder, HYDE & UN) has 2.67% null values: \n",
      "----------------------------------------------------------------------------------------------------\n",
      "Continent has 99.41% null values: \n",
      "----------------------------------------------------------------------------------------------------\n"
     ]
    }
   ],
   "source": [
    "# checking null values percentage wise.\n",
    "for column in Gdpwise.columns:\n",
    "    print(\"{} has {:.2f}% null values: \".format(column, (Gdpwise[column].isnull().sum() / len(Gdpwise)) * 100 ))\n",
    "    print(\"-\" * 100)"
   ],
   "metadata": {
    "collapsed": false,
    "pycharm": {
     "name": "#%%\n"
    }
   }
  },
  {
   "cell_type": "code",
   "execution_count": 74,
   "outputs": [],
   "source": [
    "''' renaming column names '''\n",
    "Gdpwise.rename(columns={'GDP per capita, PPP (constant 2011 international $)': 'GDP per capita in PPP',\n",
    "                   'Total population (Gapminder, HYDE & UN)': 'Total Population',\n",
    "                   'Per capita plastic waste (kg/person/day)': 'Waste per person(kg/day)'}, inplace=True)"
   ],
   "metadata": {
    "collapsed": false,
    "pycharm": {
     "name": "#%%\n"
    }
   }
  },
  {
   "cell_type": "code",
   "execution_count": 79,
   "outputs": [],
   "source": [
    "''' removing entities/countries with incomplete/missing data '''\n",
    "incmp_df_idx = Gdpwise[(Gdpwise['Total Population'].isna()) & (Gdpwise['GDP per capita in PPP'].isna())].index\n",
    "Gdpwise.drop(incmp_df_idx, inplace=True)"
   ],
   "metadata": {
    "collapsed": false,
    "pycharm": {
     "name": "#%%\n"
    }
   }
  },
  {
   "cell_type": "code",
   "execution_count": 80,
   "outputs": [],
   "source": [
    "'''retrieving rows in which year == 2010'''\n",
    "df_2010 = Gdpwise[Gdpwise['Year'] == 2010]\n",
    "df_2010 = df_2010.drop(columns='Continent')"
   ],
   "metadata": {
    "collapsed": false,
    "pycharm": {
     "name": "#%%\n"
    }
   }
  },
  {
   "cell_type": "code",
   "execution_count": 81,
   "outputs": [
    {
     "data": {
      "text/plain": "             Entity Code  Year  Waste per person(kg/day)  \\\n9       Afghanistan  AFG  2010                       NaN   \n333          Africa  NaN  2010                       NaN   \n344         Albania  ALB  2010                     0.069   \n564         Algeria  DZA  2010                     0.144   \n844  American Samoa  ASM  2010                       NaN   \n\n     GDP per capita in PPP  Total Population  \n9              1614.255001      2.918600e+07  \n333                    NaN      1.039304e+09  \n344            9927.181841      2.948000e+06  \n564           12870.602699      3.597700e+07  \n844                    NaN      5.600000e+04  ",
      "text/html": "<div>\n<style scoped>\n    .dataframe tbody tr th:only-of-type {\n        vertical-align: middle;\n    }\n\n    .dataframe tbody tr th {\n        vertical-align: top;\n    }\n\n    .dataframe thead th {\n        text-align: right;\n    }\n</style>\n<table border=\"1\" class=\"dataframe\">\n  <thead>\n    <tr style=\"text-align: right;\">\n      <th></th>\n      <th>Entity</th>\n      <th>Code</th>\n      <th>Year</th>\n      <th>Waste per person(kg/day)</th>\n      <th>GDP per capita in PPP</th>\n      <th>Total Population</th>\n    </tr>\n  </thead>\n  <tbody>\n    <tr>\n      <th>9</th>\n      <td>Afghanistan</td>\n      <td>AFG</td>\n      <td>2010</td>\n      <td>NaN</td>\n      <td>1614.255001</td>\n      <td>2.918600e+07</td>\n    </tr>\n    <tr>\n      <th>333</th>\n      <td>Africa</td>\n      <td>NaN</td>\n      <td>2010</td>\n      <td>NaN</td>\n      <td>NaN</td>\n      <td>1.039304e+09</td>\n    </tr>\n    <tr>\n      <th>344</th>\n      <td>Albania</td>\n      <td>ALB</td>\n      <td>2010</td>\n      <td>0.069</td>\n      <td>9927.181841</td>\n      <td>2.948000e+06</td>\n    </tr>\n    <tr>\n      <th>564</th>\n      <td>Algeria</td>\n      <td>DZA</td>\n      <td>2010</td>\n      <td>0.144</td>\n      <td>12870.602699</td>\n      <td>3.597700e+07</td>\n    </tr>\n    <tr>\n      <th>844</th>\n      <td>American Samoa</td>\n      <td>ASM</td>\n      <td>2010</td>\n      <td>NaN</td>\n      <td>NaN</td>\n      <td>5.600000e+04</td>\n    </tr>\n  </tbody>\n</table>\n</div>"
     },
     "execution_count": 81,
     "metadata": {},
     "output_type": "execute_result"
    }
   ],
   "source": [
    "df_2010.head()"
   ],
   "metadata": {
    "collapsed": false,
    "pycharm": {
     "name": "#%%\n"
    }
   }
  },
  {
   "cell_type": "code",
   "execution_count": 82,
   "outputs": [],
   "source": [
    "'''retrieving continent name in which year == 2015'''\n",
    "df_2015 = Gdpwise[Gdpwise['Year'] == 2015]\n",
    "df_2010['Continent'] = df_2015['Continent'].values"
   ],
   "metadata": {
    "collapsed": false,
    "pycharm": {
     "name": "#%%\n"
    }
   }
  },
  {
   "cell_type": "code",
   "execution_count": 83,
   "outputs": [
    {
     "data": {
      "text/plain": "             Entity Code  Year  Waste per person(kg/day)  \\\n14      Afghanistan  AFG  2015                       NaN   \n338          Africa  NaN  2015                       NaN   \n369         Albania  ALB  2015                       NaN   \n589         Algeria  DZA  2015                       NaN   \n849  American Samoa  ASM  2015                       NaN   \n\n     GDP per capita in PPP  Total Population Continent  \n14             1809.016488      3.441400e+07      Asia  \n338                    NaN      1.182439e+09       NaN  \n369           10970.452245      2.891000e+06    Europe  \n589           13724.723853      3.972800e+07    Africa  \n849                    NaN      5.600000e+04   Oceania  ",
      "text/html": "<div>\n<style scoped>\n    .dataframe tbody tr th:only-of-type {\n        vertical-align: middle;\n    }\n\n    .dataframe tbody tr th {\n        vertical-align: top;\n    }\n\n    .dataframe thead th {\n        text-align: right;\n    }\n</style>\n<table border=\"1\" class=\"dataframe\">\n  <thead>\n    <tr style=\"text-align: right;\">\n      <th></th>\n      <th>Entity</th>\n      <th>Code</th>\n      <th>Year</th>\n      <th>Waste per person(kg/day)</th>\n      <th>GDP per capita in PPP</th>\n      <th>Total Population</th>\n      <th>Continent</th>\n    </tr>\n  </thead>\n  <tbody>\n    <tr>\n      <th>14</th>\n      <td>Afghanistan</td>\n      <td>AFG</td>\n      <td>2015</td>\n      <td>NaN</td>\n      <td>1809.016488</td>\n      <td>3.441400e+07</td>\n      <td>Asia</td>\n    </tr>\n    <tr>\n      <th>338</th>\n      <td>Africa</td>\n      <td>NaN</td>\n      <td>2015</td>\n      <td>NaN</td>\n      <td>NaN</td>\n      <td>1.182439e+09</td>\n      <td>NaN</td>\n    </tr>\n    <tr>\n      <th>369</th>\n      <td>Albania</td>\n      <td>ALB</td>\n      <td>2015</td>\n      <td>NaN</td>\n      <td>10970.452245</td>\n      <td>2.891000e+06</td>\n      <td>Europe</td>\n    </tr>\n    <tr>\n      <th>589</th>\n      <td>Algeria</td>\n      <td>DZA</td>\n      <td>2015</td>\n      <td>NaN</td>\n      <td>13724.723853</td>\n      <td>3.972800e+07</td>\n      <td>Africa</td>\n    </tr>\n    <tr>\n      <th>849</th>\n      <td>American Samoa</td>\n      <td>ASM</td>\n      <td>2015</td>\n      <td>NaN</td>\n      <td>NaN</td>\n      <td>5.600000e+04</td>\n      <td>Oceania</td>\n    </tr>\n  </tbody>\n</table>\n</div>"
     },
     "execution_count": 83,
     "metadata": {},
     "output_type": "execute_result"
    }
   ],
   "source": [
    "df_2015.head()"
   ],
   "metadata": {
    "collapsed": false,
    "pycharm": {
     "name": "#%%\n"
    }
   }
  },
  {
   "cell_type": "code",
   "execution_count": 84,
   "outputs": [],
   "source": [
    "'''dropping rows with missing Continent values using index'''\n",
    "missing_idx = df_2010[df_2010['Continent'].isna()].index\n",
    "df_2010.drop(missing_idx, inplace=True)"
   ],
   "metadata": {
    "collapsed": false,
    "pycharm": {
     "name": "#%%\n"
    }
   }
  },
  {
   "cell_type": "code",
   "execution_count": 85,
   "outputs": [],
   "source": [
    "''' dropping rows with missing per person waste generation values '''\n",
    "df_2010 = df_2010[df_2010['Waste per person(kg/day)'].notna()]\n",
    "wa_g = df_2010.reset_index().drop('index', axis=1)"
   ],
   "metadata": {
    "collapsed": false,
    "pycharm": {
     "name": "#%%\n"
    }
   }
  },
  {
   "cell_type": "code",
   "execution_count": 86,
   "outputs": [
    {
     "data": {
      "text/plain": "                Entity Code  Year  Waste per person(kg/day)  \\\n0              Albania  ALB  2010                     0.069   \n1              Algeria  DZA  2010                     0.144   \n2               Angola  AGO  2010                     0.062   \n3             Anguilla  AIA  2010                     0.252   \n4  Antigua and Barbuda  ATG  2010                     0.660   \n\n   GDP per capita in PPP  Total Population      Continent  \n0            9927.181841         2948000.0         Europe  \n1           12870.602699        35977000.0         Africa  \n2            5897.682841        23356000.0         Africa  \n3                    NaN           13000.0  North America  \n4           19212.720131           88000.0  North America  ",
      "text/html": "<div>\n<style scoped>\n    .dataframe tbody tr th:only-of-type {\n        vertical-align: middle;\n    }\n\n    .dataframe tbody tr th {\n        vertical-align: top;\n    }\n\n    .dataframe thead th {\n        text-align: right;\n    }\n</style>\n<table border=\"1\" class=\"dataframe\">\n  <thead>\n    <tr style=\"text-align: right;\">\n      <th></th>\n      <th>Entity</th>\n      <th>Code</th>\n      <th>Year</th>\n      <th>Waste per person(kg/day)</th>\n      <th>GDP per capita in PPP</th>\n      <th>Total Population</th>\n      <th>Continent</th>\n    </tr>\n  </thead>\n  <tbody>\n    <tr>\n      <th>0</th>\n      <td>Albania</td>\n      <td>ALB</td>\n      <td>2010</td>\n      <td>0.069</td>\n      <td>9927.181841</td>\n      <td>2948000.0</td>\n      <td>Europe</td>\n    </tr>\n    <tr>\n      <th>1</th>\n      <td>Algeria</td>\n      <td>DZA</td>\n      <td>2010</td>\n      <td>0.144</td>\n      <td>12870.602699</td>\n      <td>35977000.0</td>\n      <td>Africa</td>\n    </tr>\n    <tr>\n      <th>2</th>\n      <td>Angola</td>\n      <td>AGO</td>\n      <td>2010</td>\n      <td>0.062</td>\n      <td>5897.682841</td>\n      <td>23356000.0</td>\n      <td>Africa</td>\n    </tr>\n    <tr>\n      <th>3</th>\n      <td>Anguilla</td>\n      <td>AIA</td>\n      <td>2010</td>\n      <td>0.252</td>\n      <td>NaN</td>\n      <td>13000.0</td>\n      <td>North America</td>\n    </tr>\n    <tr>\n      <th>4</th>\n      <td>Antigua and Barbuda</td>\n      <td>ATG</td>\n      <td>2010</td>\n      <td>0.660</td>\n      <td>19212.720131</td>\n      <td>88000.0</td>\n      <td>North America</td>\n    </tr>\n  </tbody>\n</table>\n</div>"
     },
     "execution_count": 86,
     "metadata": {},
     "output_type": "execute_result"
    }
   ],
   "source": [
    "wa_g.head()"
   ],
   "metadata": {
    "collapsed": false,
    "pycharm": {
     "name": "#%%\n"
    }
   }
  },
  {
   "cell_type": "code",
   "execution_count": 87,
   "outputs": [],
   "source": [
    "''' merging w_m and wa_g '''\n",
    "df_plastic_waste = pd.merge(wa_g, w_m, how='inner')"
   ],
   "metadata": {
    "collapsed": false,
    "pycharm": {
     "name": "#%%\n"
    }
   }
  },
  {
   "cell_type": "code",
   "execution_count": 88,
   "outputs": [
    {
     "data": {
      "text/plain": "                Entity Code  Year  Waste per person(kg/day)  \\\n0              Albania  ALB  2010                     0.069   \n1              Algeria  DZA  2010                     0.144   \n2               Angola  AGO  2010                     0.062   \n3             Anguilla  AIA  2010                     0.252   \n4  Antigua and Barbuda  ATG  2010                     0.660   \n\n   GDP per capita in PPP  Total Population      Continent  \\\n0            9927.181841         2948000.0         Europe   \n1           12870.602699        35977000.0         Africa   \n2            5897.682841        23356000.0         Africa   \n3                    NaN           13000.0  North America   \n4           19212.720131           88000.0  North America   \n\n   Mismanaged waste per person(kg/day)  \n0                                0.032  \n1                                0.086  \n2                                0.045  \n3                                0.010  \n4                                0.051  ",
      "text/html": "<div>\n<style scoped>\n    .dataframe tbody tr th:only-of-type {\n        vertical-align: middle;\n    }\n\n    .dataframe tbody tr th {\n        vertical-align: top;\n    }\n\n    .dataframe thead th {\n        text-align: right;\n    }\n</style>\n<table border=\"1\" class=\"dataframe\">\n  <thead>\n    <tr style=\"text-align: right;\">\n      <th></th>\n      <th>Entity</th>\n      <th>Code</th>\n      <th>Year</th>\n      <th>Waste per person(kg/day)</th>\n      <th>GDP per capita in PPP</th>\n      <th>Total Population</th>\n      <th>Continent</th>\n      <th>Mismanaged waste per person(kg/day)</th>\n    </tr>\n  </thead>\n  <tbody>\n    <tr>\n      <th>0</th>\n      <td>Albania</td>\n      <td>ALB</td>\n      <td>2010</td>\n      <td>0.069</td>\n      <td>9927.181841</td>\n      <td>2948000.0</td>\n      <td>Europe</td>\n      <td>0.032</td>\n    </tr>\n    <tr>\n      <th>1</th>\n      <td>Algeria</td>\n      <td>DZA</td>\n      <td>2010</td>\n      <td>0.144</td>\n      <td>12870.602699</td>\n      <td>35977000.0</td>\n      <td>Africa</td>\n      <td>0.086</td>\n    </tr>\n    <tr>\n      <th>2</th>\n      <td>Angola</td>\n      <td>AGO</td>\n      <td>2010</td>\n      <td>0.062</td>\n      <td>5897.682841</td>\n      <td>23356000.0</td>\n      <td>Africa</td>\n      <td>0.045</td>\n    </tr>\n    <tr>\n      <th>3</th>\n      <td>Anguilla</td>\n      <td>AIA</td>\n      <td>2010</td>\n      <td>0.252</td>\n      <td>NaN</td>\n      <td>13000.0</td>\n      <td>North America</td>\n      <td>0.010</td>\n    </tr>\n    <tr>\n      <th>4</th>\n      <td>Antigua and Barbuda</td>\n      <td>ATG</td>\n      <td>2010</td>\n      <td>0.660</td>\n      <td>19212.720131</td>\n      <td>88000.0</td>\n      <td>North America</td>\n      <td>0.051</td>\n    </tr>\n  </tbody>\n</table>\n</div>"
     },
     "execution_count": 88,
     "metadata": {},
     "output_type": "execute_result"
    }
   ],
   "source": [
    "''' displaying data '''\n",
    "df_plastic_waste.head()"
   ],
   "metadata": {
    "collapsed": false,
    "pycharm": {
     "name": "#%%\n"
    }
   }
  },
  {
   "cell_type": "code",
   "execution_count": 89,
   "outputs": [],
   "source": [
    "''' converting column names into list '''\n",
    "df_plastic_waste.columns.tolist()\n",
    "\n",
    "''' column names '''\n",
    "col_names = ['Entity','Code','Year','Waste per person(kg/day)','Mismanaged waste per person(kg/day)',\n",
    "             'GDP per capita in PPP','Total Population','Continent']\n",
    "\n",
    "df_plastic_waste = df_plastic_waste[col_names]\n",
    "\n",
    "'''rounding the values per person'''\n",
    "df_plastic_waste.iloc[:, 3:5] = np.around(df_plastic_waste[['Waste per person(kg/day)',\n",
    "                                                            'Mismanaged waste per person(kg/day)']], decimals=2)\n",
    "\n",
    "''' changing data type '''\n",
    "df_plastic_waste['Total Population'] = df_plastic_waste['Total Population'].astype(int)"
   ],
   "metadata": {
    "collapsed": false,
    "pycharm": {
     "name": "#%%\n"
    }
   }
  },
  {
   "cell_type": "code",
   "execution_count": 90,
   "outputs": [],
   "source": [
    "'''Generating Total waste and Total mismanaged waste by country'''\n",
    "df_plastic_waste['Total waste(kgs/year)'] = ((df_plastic_waste['Waste per person(kg/day)'] *\n",
    "                                              df_plastic_waste['Total Population']) * 365)\n",
    "df_plastic_waste['Total waste mismanaged(kgs/year)'] = ((df_plastic_waste['Mismanaged waste per person(kg/day)'] *\n",
    "                                                         df_plastic_waste['Total Population']) * 365)"
   ],
   "metadata": {
    "collapsed": false,
    "pycharm": {
     "name": "#%%\n"
    }
   }
  },
  {
   "cell_type": "code",
   "execution_count": 91,
   "outputs": [
    {
     "data": {
      "text/plain": "                Entity Code  Year  Waste per person(kg/day)  \\\n0              Albania  ALB  2010                      0.07   \n1              Algeria  DZA  2010                      0.14   \n2               Angola  AGO  2010                      0.06   \n3             Anguilla  AIA  2010                      0.25   \n4  Antigua and Barbuda  ATG  2010                      0.66   \n\n   Mismanaged waste per person(kg/day)  GDP per capita in PPP  \\\n0                                 0.03            9927.181841   \n1                                 0.09           12870.602699   \n2                                 0.04            5897.682841   \n3                                 0.01                    NaN   \n4                                 0.05           19212.720131   \n\n   Total Population      Continent  Total waste(kgs/year)  \\\n0           2948000         Europe           7.532140e+07   \n1          35977000         Africa           1.838425e+09   \n2          23356000         Africa           5.114964e+08   \n3             13000  North America           1.186250e+06   \n4             88000  North America           2.119920e+07   \n\n   Total waste mismanaged(kgs/year)  \n0                      3.228060e+07  \n1                      1.181844e+09  \n2                      3.409976e+08  \n3                      4.745000e+04  \n4                      1.606000e+06  ",
      "text/html": "<div>\n<style scoped>\n    .dataframe tbody tr th:only-of-type {\n        vertical-align: middle;\n    }\n\n    .dataframe tbody tr th {\n        vertical-align: top;\n    }\n\n    .dataframe thead th {\n        text-align: right;\n    }\n</style>\n<table border=\"1\" class=\"dataframe\">\n  <thead>\n    <tr style=\"text-align: right;\">\n      <th></th>\n      <th>Entity</th>\n      <th>Code</th>\n      <th>Year</th>\n      <th>Waste per person(kg/day)</th>\n      <th>Mismanaged waste per person(kg/day)</th>\n      <th>GDP per capita in PPP</th>\n      <th>Total Population</th>\n      <th>Continent</th>\n      <th>Total waste(kgs/year)</th>\n      <th>Total waste mismanaged(kgs/year)</th>\n    </tr>\n  </thead>\n  <tbody>\n    <tr>\n      <th>0</th>\n      <td>Albania</td>\n      <td>ALB</td>\n      <td>2010</td>\n      <td>0.07</td>\n      <td>0.03</td>\n      <td>9927.181841</td>\n      <td>2948000</td>\n      <td>Europe</td>\n      <td>7.532140e+07</td>\n      <td>3.228060e+07</td>\n    </tr>\n    <tr>\n      <th>1</th>\n      <td>Algeria</td>\n      <td>DZA</td>\n      <td>2010</td>\n      <td>0.14</td>\n      <td>0.09</td>\n      <td>12870.602699</td>\n      <td>35977000</td>\n      <td>Africa</td>\n      <td>1.838425e+09</td>\n      <td>1.181844e+09</td>\n    </tr>\n    <tr>\n      <th>2</th>\n      <td>Angola</td>\n      <td>AGO</td>\n      <td>2010</td>\n      <td>0.06</td>\n      <td>0.04</td>\n      <td>5897.682841</td>\n      <td>23356000</td>\n      <td>Africa</td>\n      <td>5.114964e+08</td>\n      <td>3.409976e+08</td>\n    </tr>\n    <tr>\n      <th>3</th>\n      <td>Anguilla</td>\n      <td>AIA</td>\n      <td>2010</td>\n      <td>0.25</td>\n      <td>0.01</td>\n      <td>NaN</td>\n      <td>13000</td>\n      <td>North America</td>\n      <td>1.186250e+06</td>\n      <td>4.745000e+04</td>\n    </tr>\n    <tr>\n      <th>4</th>\n      <td>Antigua and Barbuda</td>\n      <td>ATG</td>\n      <td>2010</td>\n      <td>0.66</td>\n      <td>0.05</td>\n      <td>19212.720131</td>\n      <td>88000</td>\n      <td>North America</td>\n      <td>2.119920e+07</td>\n      <td>1.606000e+06</td>\n    </tr>\n  </tbody>\n</table>\n</div>"
     },
     "execution_count": 91,
     "metadata": {},
     "output_type": "execute_result"
    }
   ],
   "source": [
    "df_plastic_waste.head()"
   ],
   "metadata": {
    "collapsed": false,
    "pycharm": {
     "name": "#%%\n"
    }
   }
  },
  {
   "cell_type": "code",
   "execution_count": 92,
   "outputs": [
    {
     "data": {
      "text/plain": "<Figure size 864x576 with 1 Axes>",
      "image/png": "[encoded data removed]"
     },
     "metadata": {},
     "output_type": "display_data"
    }
   ],
   "source": [
    "''' scatter plot graph '''\n",
    "\n",
    "plt.figure(1, figsize=(12,8))\n",
    "plt.scatter(df_plastic_waste['GDP per capita in PPP'], df_plastic_waste['Mismanaged waste per person(kg/day)'])\n",
    "plt.title('Waste Mismanaged', loc='center', fontsize=15)\n",
    "plt.ylabel('Mismanaged waste', loc='center', fontsize=15)\n",
    "plt.xlabel('GDP per capita', fontsize=12)\n",
    "\n",
    "sns.regplot(x='GDP per capita in PPP', y='Mismanaged waste per person(kg/day)', data=df_plastic_waste,\n",
    "            scatter_kws={'color': '#34568B'}, line_kws={'color': '#650021'})\n",
    "\n",
    "plt.show()"
   ],
   "metadata": {
    "collapsed": false,
    "pycharm": {
     "name": "#%%\n"
    }
   }
  },
  {
   "cell_type": "code",
   "execution_count": 93,
   "outputs": [
    {
     "data": {
      "text/plain": "<Figure size 864x576 with 1 Axes>",
      "image/png": "[encoded data removed]"
     },
     "metadata": {},
     "output_type": "display_data"
    }
   ],
   "source": [
    "''' scatter plot '''\n",
    "\n",
    "plt.figure(2, figsize=(12,8))\n",
    "plt.scatter(df_plastic_waste['GDP per capita in PPP'], df_plastic_waste['Waste per person(kg/day)'])\n",
    "plt.title('Waste Generated by GDP', loc='center', fontsize=14)\n",
    "plt.ylabel('Waste per person(kg/day)', loc='center', fontsize=12)\n",
    "plt.xlabel('GDP per capita in PPP', fontsize=12)\n",
    "\n",
    "sns.regplot(x=df_plastic_waste['GDP per capita in PPP'], y=df_plastic_waste['Waste per person(kg/day)'],\n",
    "            scatter_kws={'color': '#CD212A'}, line_kws={'color': '#380282'})\n",
    "\n",
    "plt.show()"
   ],
   "metadata": {
    "collapsed": false,
    "pycharm": {
     "name": "#%%\n"
    }
   }
  },
  {
   "cell_type": "code",
   "execution_count": null,
   "outputs": [],
   "source": [],
   "metadata": {
    "collapsed": false,
    "pycharm": {
     "name": "#%%\n"
    }
   }
  }
 ],
 "metadata": {
  "kernelspec": {
   "display_name": "Python 3",
   "language": "python",
   "name": "python3"
  },
  "language_info": {
   "codemirror_mode": {
    "name": "ipython",
    "version": 2
   },
   "file_extension": ".py",
   "mimetype": "text/x-python",
   "name": "python",
   "nbconvert_exporter": "python",
   "pygments_lexer": "ipython2",
   "version": "2.7.6"
  }
 },
 "nbformat": 4,
 "nbformat_minor": 0
}