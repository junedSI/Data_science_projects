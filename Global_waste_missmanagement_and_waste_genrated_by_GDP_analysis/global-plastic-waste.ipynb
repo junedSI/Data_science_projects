{
 "cells": [
  {
   "cell_type": "code",
   "execution_count": 1,
   "metadata": {
    "collapsed": true
   },
   "outputs": [],
   "source": [
    "import numpy as np\n",
    "import pandas as pd\n",
    "import seaborn as sns\n",
    "import warnings\n",
    "import matplotlib.pyplot as plt\n",
    "%matplotlib inline\n",
    "\n",
    "warnings.filterwarnings('ignore')\n",
    "sns.set_style('darkgrid')"
   ]
  },
  {
   "cell_type": "code",
   "execution_count": 2,
   "outputs": [],
   "source": [
    "# reading dataset\n",
    "Missmanaged = pd.read_csv('per-capita-mismanaged-plastic-waste-vs-gdp-per-capita.csv')"
   ],
   "metadata": {
    "collapsed": false,
    "pycharm": {
     "name": "#%%\n"
    }
   }
  },
  {
   "cell_type": "code",
   "execution_count": 3,
   "outputs": [
    {
     "data": {
      "text/plain": "        Entity      Code  Year  Per capita mismanaged plastic waste  \\\n0     Abkhazia  OWID_ABK  2015                                  NaN   \n1  Afghanistan       AFG  2002                                  NaN   \n2  Afghanistan       AFG  2003                                  NaN   \n3  Afghanistan       AFG  2004                                  NaN   \n4  Afghanistan       AFG  2005                                  NaN   \n\n   GDP per capita, PPP (constant 2011 international $)  \\\n0                                                NaN     \n1                                        1063.635574     \n2                                        1099.194507     \n3                                        1062.249360     \n4                                        1136.123214     \n\n   Total population (Gapminder, HYDE & UN) Continent  \n0                                      NaN      Asia  \n1                               22601000.0       NaN  \n2                               23681000.0       NaN  \n3                               24727000.0       NaN  \n4                               25654000.0       NaN  ",
      "text/html": "<div>\n<style scoped>\n    .dataframe tbody tr th:only-of-type {\n        vertical-align: middle;\n    }\n\n    .dataframe tbody tr th {\n        vertical-align: top;\n    }\n\n    .dataframe thead th {\n        text-align: right;\n    }\n</style>\n<table border=\"1\" class=\"dataframe\">\n  <thead>\n    <tr style=\"text-align: right;\">\n      <th></th>\n      <th>Entity</th>\n      <th>Code</th>\n      <th>Year</th>\n      <th>Per capita mismanaged plastic waste</th>\n      <th>GDP per capita, PPP (constant 2011 international $)</th>\n      <th>Total population (Gapminder, HYDE &amp; UN)</th>\n      <th>Continent</th>\n    </tr>\n  </thead>\n  <tbody>\n    <tr>\n      <th>0</th>\n      <td>Abkhazia</td>\n      <td>OWID_ABK</td>\n      <td>2015</td>\n      <td>NaN</td>\n      <td>NaN</td>\n      <td>NaN</td>\n      <td>Asia</td>\n    </tr>\n    <tr>\n      <th>1</th>\n      <td>Afghanistan</td>\n      <td>AFG</td>\n      <td>2002</td>\n      <td>NaN</td>\n      <td>1063.635574</td>\n      <td>22601000.0</td>\n      <td>NaN</td>\n    </tr>\n    <tr>\n      <th>2</th>\n      <td>Afghanistan</td>\n      <td>AFG</td>\n      <td>2003</td>\n      <td>NaN</td>\n      <td>1099.194507</td>\n      <td>23681000.0</td>\n      <td>NaN</td>\n    </tr>\n    <tr>\n      <th>3</th>\n      <td>Afghanistan</td>\n      <td>AFG</td>\n      <td>2004</td>\n      <td>NaN</td>\n      <td>1062.249360</td>\n      <td>24727000.0</td>\n      <td>NaN</td>\n    </tr>\n    <tr>\n      <th>4</th>\n      <td>Afghanistan</td>\n      <td>AFG</td>\n      <td>2005</td>\n      <td>NaN</td>\n      <td>1136.123214</td>\n      <td>25654000.0</td>\n      <td>NaN</td>\n    </tr>\n  </tbody>\n</table>\n</div>"
     },
     "execution_count": 3,
     "metadata": {},
     "output_type": "execute_result"
    }
   ],
   "source": [
    "# first 5 rows of data\n",
    "Missmanaged.head()"
   ],
   "metadata": {
    "collapsed": false,
    "pycharm": {
     "name": "#%%\n"
    }
   }
  },
  {
   "cell_type": "code",
   "execution_count": 5,
   "outputs": [
    {
     "data": {
      "text/plain": "(48168, 7)"
     },
     "execution_count": 5,
     "metadata": {},
     "output_type": "execute_result"
    }
   ],
   "source": [
    "# Shape of data\n",
    "Missmanaged.shape"
   ],
   "metadata": {
    "collapsed": false,
    "pycharm": {
     "name": "#%%\n"
    }
   }
  },
  {
   "cell_type": "code",
   "execution_count": 6,
   "outputs": [
    {
     "data": {
      "text/plain": "Entity                                                     0\nCode                                                    2014\nYear                                                       0\nPer capita mismanaged plastic waste                    47982\nGDP per capita, PPP (constant 2011 international $)    41761\nTotal population (Gapminder, HYDE & UN)                 1285\nContinent                                              47883\ndtype: int64"
     },
     "execution_count": 6,
     "metadata": {},
     "output_type": "execute_result"
    }
   ],
   "source": [
    "# checking null values\n",
    "Missmanaged.isnull().sum()"
   ],
   "metadata": {
    "collapsed": false,
    "pycharm": {
     "name": "#%%\n"
    }
   }
  },
  {
   "cell_type": "code",
   "execution_count": 9,
   "outputs": [
    {
     "name": "stdout",
     "output_type": "stream",
     "text": [
      "Entity has 0.00% null values: \n",
      "----------------------------------------------------------------------------------------------------\n",
      "Code has 4.18% null values: \n",
      "----------------------------------------------------------------------------------------------------\n",
      "Year has 0.00% null values: \n",
      "----------------------------------------------------------------------------------------------------\n",
      "Per capita mismanaged plastic waste has 99.61% null values: \n",
      "----------------------------------------------------------------------------------------------------\n",
      "GDP per capita, PPP (constant 2011 international $) has 86.70% null values: \n",
      "----------------------------------------------------------------------------------------------------\n",
      "Total population (Gapminder, HYDE & UN) has 2.67% null values: \n",
      "----------------------------------------------------------------------------------------------------\n",
      "Continent has 99.41% null values: \n",
      "----------------------------------------------------------------------------------------------------\n"
     ]
    }
   ],
   "source": [
    "for column in Missmanaged.columns:\n",
    "    print(\"{} has {:.2f}% null values: \".format(column, (Missmanaged[column].isnull().sum() / len(Missmanaged)) * 100 ))\n",
    "    print(\"-\" * 100)"
   ],
   "metadata": {
    "collapsed": false,
    "pycharm": {
     "name": "#%%\n"
    }
   }
  },
  {
   "cell_type": "code",
   "execution_count": null,
   "outputs": [],
   "source": [],
   "metadata": {
    "collapsed": false,
    "pycharm": {
     "name": "#%%\n"
    }
   }
  }
 ],
 "metadata": {
  "kernelspec": {
   "display_name": "Python 3",
   "language": "python",
   "name": "python3"
  },
  "language_info": {
   "codemirror_mode": {
    "name": "ipython",
    "version": 2
   },
   "file_extension": ".py",
   "mimetype": "text/x-python",
   "name": "python",
   "nbconvert_exporter": "python",
   "pygments_lexer": "ipython2",
   "version": "2.7.6"
  }
 },
 "nbformat": 4,
 "nbformat_minor": 0
}